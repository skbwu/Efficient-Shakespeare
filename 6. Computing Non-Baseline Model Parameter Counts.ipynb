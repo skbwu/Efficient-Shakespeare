{
 "cells": [
  {
   "cell_type": "code",
   "execution_count": 6,
   "id": "359d0e65",
   "metadata": {},
   "outputs": [],
   "source": [
    "import torch\n",
    "import numpy as np\n",
    "import matplotlib.pyplot as plt\n",
    "import pandas as pd\n",
    "import pickle\n",
    "import os\n",
    "from tqdm.notebook import tqdm\n",
    "from utils import *\n",
    "from IPython.display import clear_output"
   ]
  },
  {
   "cell_type": "code",
   "execution_count": 9,
   "id": "31217395",
   "metadata": {},
   "outputs": [
    {
     "name": "stdout",
     "output_type": "stream",
     "text": [
      "Finished processing 45 of 45 models.\n"
     ]
    }
   ],
   "source": [
    "# create a dataframe to store our metrics\n",
    "logs = pd.DataFrame(\n",
    "    data=None, columns=[\"minimum_count\", \"embed_size\", \"freeze_type\", \"vocab_size\",\n",
    "                        \"average_train_time\", \"trainable_params\"])\n",
    "\n",
    "# vocab_sizes (from Word2Vec)\n",
    "vocab_sizes = [13332, 5338, 3600]\n",
    "\n",
    "# counter to track progress\n",
    "counter = 0\n",
    "\n",
    "# load all of our word-level models -- get parameter counts + average train time\n",
    "for i, mc in enumerate([1, 3, 5]):\n",
    "    for embed_size in [192, 384, 576, 768, 960]:\n",
    "        for freeze_type in [True, False, None]:\n",
    "    \n",
    "            # load in our time-elapsed logs (for TRAINING ONLY) - threshold to 99% percentile to ignore validation sets\n",
    "            foldername = f\"models/mc={mc}_embed-size={embed_size}_freeze-type={str(freeze_type)}\"\n",
    "            times = pd.read_csv(f\"{foldername}/logs.csv\").wallclock.values\n",
    "            average_train_time = times[times <= np.quantile(times, q=0.99)].mean()\n",
    "\n",
    "            # load in the model and get our weights\n",
    "            model = torch.load(f\"{foldername}/model.pth\")\n",
    "            trainable_params = np.sum(\n",
    "                [param.numel() for param in model.parameters()\n",
    "                 if param.requires_grad])\n",
    "\n",
    "            # record in our table\n",
    "            logs.loc[len(logs.index)] = [mc, embed_size, str(freeze_type), \n",
    "                                         vocab_sizes[i], average_train_time, trainable_params]\n",
    "            \n",
    "            # status update\n",
    "            counter += 1\n",
    "            clear_output(wait=True)\n",
    "            print(f\"Finished processing {counter} of 45 models.\")\n",
    "\n",
    "# save as a .csv\n",
    "logs.to_csv(\"logs.csv\", index=False)"
   ]
  }
 ],
 "metadata": {
  "kernelspec": {
   "display_name": "Python 3.10 (Afterburner)",
   "language": "python",
   "name": "afterburner"
  },
  "language_info": {
   "codemirror_mode": {
    "name": "ipython",
    "version": 3
   },
   "file_extension": ".py",
   "mimetype": "text/x-python",
   "name": "python",
   "nbconvert_exporter": "python",
   "pygments_lexer": "ipython3",
   "version": "3.10.14"
  }
 },
 "nbformat": 4,
 "nbformat_minor": 5
}
