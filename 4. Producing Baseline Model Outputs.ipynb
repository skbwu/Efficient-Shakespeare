{
 "cells": [
  {
   "cell_type": "code",
   "execution_count": 4,
   "metadata": {},
   "outputs": [],
   "source": [
    "import torch\n",
    "import numpy as np\n",
    "import pandas as pd\n",
    "import matplotlib.pyplot as plt\n",
    "import os, pickle, gc\n",
    "from IPython.display import clear_output\n",
    "from baseline_utils import *\n",
    "from tqdm.notebook import tqdm"
   ]
  },
  {
   "cell_type": "markdown",
   "metadata": {},
   "source": [
    "# Preprocessing and Helper Functions"
   ]
  },
  {
   "cell_type": "code",
   "execution_count": 5,
   "metadata": {
    "id": "53dGz7ExDkUv"
   },
   "outputs": [],
   "source": [
    "# the below is all from the HW assignment pt. 1\n",
    "with open(\"input.txt\", 'r') as f:\n",
    "    data = f.read()\n",
    "    \n",
    "# get all the unique characters that occur in this text\n",
    "chars = sorted(list(set(data)))\n",
    "vocab_size = len(chars)\n",
    "\n",
    "# create a mapping from characters to integers\n",
    "stoi = { ch:i for i,ch in enumerate(chars) }\n",
    "itos = { i:ch for i,ch in enumerate(chars) }\n",
    "\n",
    "# encoder and decoder functions\n",
    "def encode(s):\n",
    "    return [stoi[c] for c in s] # encoder: take a string, output a list of integers\n",
    "def decode(l):\n",
    "    return ''.join([itos[i] for i in l]) # decoder: take a list of integers, output a string\n",
    "\n",
    "# load in our test prompts\n",
    "with open(\"test_prompts.pickle\", \"rb\") as file:\n",
    "    test_prompts = pickle.load(file)"
   ]
  },
  {
   "cell_type": "markdown",
   "metadata": {},
   "source": [
    "# Generate Outputs For Every Baseline Model"
   ]
  },
  {
   "cell_type": "code",
   "execution_count": 6,
   "metadata": {},
   "outputs": [
    {
     "name": "stdout",
     "output_type": "stream",
     "text": [
      "Finished generating output 50 of 50 on baseline embed_size=960.\n"
     ]
    }
   ],
   "source": [
    "# set a seed for reproducibility\n",
    "torch.manual_seed(310); np.random.seed(310)\n",
    "\n",
    "# dictionary to store all of our outputs\n",
    "baseline_outputs = {}\n",
    "\n",
    "# go thru each of our models\n",
    "for embed_size in [192, 384, 576, 768, 960]:\n",
    "    \n",
    "    # status update\n",
    "    clear_output(wait=True)\n",
    "    print(f\"Generating output for baseline embed_size={embed_size}.\")\n",
    "\n",
    "    # create another dictionary in \"outputs\"\n",
    "    baseline_outputs[embed_size] = {}\n",
    "    \n",
    "    # 1. load in our baseline model\n",
    "    model = torch.load(f\"char_models/embed-size={embed_size}/model.pth\")\n",
    "    model.eval()\n",
    "    \n",
    "    # 2. go thru each of our test prompts\n",
    "    for i, test_prompt in enumerate(test_prompts):\n",
    "        \n",
    "        # a. encode our test_prompt as token_ids (character-level)\n",
    "        token_ids = torch.tensor(encode(test_prompt), device=\"cuda\").reshape(1, -1)\n",
    "        \n",
    "        # b. generate our new text -- use the same 3x token_ids-length\n",
    "        output = model.generate(\n",
    "            token_ids=token_ids, \n",
    "            max_new_tokens=3*len(token_ids.flatten())).cpu().flatten().tolist()\n",
    "\n",
    "        # c. join our predicted tokens back together using sentences + beautify\n",
    "        baseline_outputs[embed_size][test_prompt] = decode(output)\n",
    "        \n",
    "        # d. status update\n",
    "        clear_output(wait=True)\n",
    "        print(f\"Finished generating output {i+1} of 50 on baseline embed_size={embed_size}.\")\n",
    "        \n",
    "    # 3. after each model, clear cache\n",
    "    torch.cuda.empty_cache()\n",
    "    gc.collect()\n",
    "    \n",
    "# save our outputs\n",
    "with open(\"baseline_outputs.pickle\", \"wb\") as file:\n",
    "    pickle.dump(baseline_outputs, file)"
   ]
  }
 ],
 "metadata": {
  "accelerator": "GPU",
  "colab": {
   "gpuType": "T4",
   "provenance": []
  },
  "kernelspec": {
   "display_name": "Python 3.10 (Afterburner)",
   "language": "python",
   "name": "afterburner"
  },
  "language_info": {
   "codemirror_mode": {
    "name": "ipython",
    "version": 3
   },
   "file_extension": ".py",
   "mimetype": "text/x-python",
   "name": "python",
   "nbconvert_exporter": "python",
   "pygments_lexer": "ipython3",
   "version": "3.10.14"
  }
 },
 "nbformat": 4,
 "nbformat_minor": 1
}
