{
 "cells": [
  {
   "cell_type": "code",
   "execution_count": 12,
   "id": "8069bde1",
   "metadata": {},
   "outputs": [],
   "source": [
    "import torch\n",
    "import numpy as np\n",
    "import matplotlib.pyplot as plt\n",
    "import pandas as pd\n",
    "import pickle\n",
    "import os\n",
    "from tqdm.notebook import tqdm\n",
    "from baseline_utils import *"
   ]
  },
  {
   "cell_type": "code",
   "execution_count": 49,
   "id": "c80b8f22",
   "metadata": {},
   "outputs": [],
   "source": [
    "# create a dataframe to store our metrics\n",
    "logs = pd.DataFrame(data=None, columns=[\"embed_size\", \"average_train_time\", \"trainable_params\"])\n",
    "\n",
    "# load all of our baseline models -- get parameter counts + average train time\n",
    "for embed_size in [192, 384, 576, 768, 960]:\n",
    "    \n",
    "    # load in our time-elapsed logs (for TRAINING ONLY) - threshold to 99% percentile to ignore validation sets\n",
    "    foldername = f\"char_models/embed-size={embed_size}\"\n",
    "    times = pd.read_csv(f\"{foldername}/logs.csv\").wallclock.values\n",
    "    average_train_time = times[times <= np.quantile(times, q=0.99)].mean()\n",
    "    \n",
    "    # load in the model and get our weights\n",
    "    model = torch.load(f\"{foldername}/model.pth\")\n",
    "    trainable_params = np.sum(\n",
    "        [param.numel() for param in model.parameters()\n",
    "         if param.requires_grad])\n",
    "    \n",
    "    # record in our table\n",
    "    logs.loc[len(logs.index)] = [embed_size, average_train_time, trainable_params]\n",
    "    \n",
    "# save as a .csv\n",
    "logs.to_csv(\"baseline_logs.csv\", index=False)"
   ]
  }
 ],
 "metadata": {
  "kernelspec": {
   "display_name": "Python 3.10 (Afterburner)",
   "language": "python",
   "name": "afterburner"
  },
  "language_info": {
   "codemirror_mode": {
    "name": "ipython",
    "version": 3
   },
   "file_extension": ".py",
   "mimetype": "text/x-python",
   "name": "python",
   "nbconvert_exporter": "python",
   "pygments_lexer": "ipython3",
   "version": "3.10.14"
  }
 },
 "nbformat": 4,
 "nbformat_minor": 5
}
